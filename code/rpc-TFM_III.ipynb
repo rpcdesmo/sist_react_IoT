{
 "cells": [
  {
   "cell_type": "markdown",
   "metadata": {},
   "source": [
    "<div style=\"width: 100%; clear: both;\">\n",
    "<div style=\"float: left; width: 50%;\">\n",
    "<img src=\"http://www.uoc.edu/portal/_resources/common/imatges/marca_UOC/UOC_Masterbrand.jpg\", align=\"left\">\n",
    "</div>\n",
    "<div style=\"float: right; width: 50%;\">\n",
    "<p style=\"margin: 0; padding-top: 22px; text-align:right;\">2018-2 · Máster universitario en Ciencia de datos (Data Science)</p>\n",
    "<p style=\"margin: 0; text-align:right;\">TFM · Sistema Reactivo Sobre Dispositivos IoT</p>\n",
    "</div>\n",
    "</div>\n",
    "<div style=\"width:0%;\">&nbsp;</div>\n",
    "\n",
    "\n",
    "# TFM: Sistema Reactivo Sobre Dispositivos IoT - Parte III\n",
    "\n",
    "Este notebook contiene la parte de generación del modelo del trabajo realizado para el TFM."
   ]
  },
  {
   "cell_type": "code",
   "execution_count": 18,
   "metadata": {},
   "outputs": [],
   "source": [
    "# carga de librerías necesarias:\n",
    "%matplotlib inline\n",
    "import pandas as pd\n",
    "import networkx as nx\n",
    "import matplotlib.pyplot as plt\n",
    "import numpy as np\n",
    "import seaborn as sns\n",
    "from scipy.stats import norm\n",
    "from math import ceil\n",
    "from math import floor\n",
    "import warnings\n",
    "warnings.filterwarnings('ignore')\n",
    "\n",
    "#imports para generar el modelo\n",
    "from sklearn.model_selection import train_test_split\n",
    "from sklearn.model_selection import cross_val_score\n",
    "from sklearn.model_selection import validation_curve\n",
    "from sklearn.tree import DecisionTreeClassifier\n",
    "from sklearn.ensemble import RandomForestClassifier\n",
    "from sklearn.metrics import accuracy_score"
   ]
  },
  {
   "cell_type": "code",
   "execution_count": 2,
   "metadata": {
    "scrolled": true
   },
   "outputs": [],
   "source": [
    "#Se carga el fichero con el conjunto de datos:\n",
    "dataset = pd.read_excel(\"./datos/dataset_fecha_hora_clean.xlsx\",\n",
    "                        header=[0],\n",
    "                        columns = ['HORA','HORA_MIN','HORA_NORM','TIPO_USER','TIPO_USER_INT','ID_ACCION','TIPO_DIA','TIPO_DIA_INT'],\n",
    "                       )\n",
    "\n",
    "#se carga el conjunto con la descripción de las acciones: \n",
    "dataset_acciones = pd.read_excel(\"./datos/dataset_acciones.xlsx\",\n",
    "                                 header=[0],\n",
    "                                 columns = ['ID_ACCION','ACCION']\n",
    "                                )"
   ]
  },
  {
   "cell_type": "code",
   "execution_count": 3,
   "metadata": {},
   "outputs": [],
   "source": [
    "#tras las pruebas anteriores, modificamos el intervalo normalizado a 5 minutos\n",
    "INTERVALO = 5\n",
    "dataset['HORA_NORM'] = [ceil(hora_min/INTERVALO) for hora_min in dataset['HORA_MIN']]"
   ]
  },
  {
   "cell_type": "code",
   "execution_count": 4,
   "metadata": {},
   "outputs": [],
   "source": [
    "#Se seleccionan las columnas con las que se va a trabajar:\n",
    "dataset = dataset[['HORA_NORM','TIPO_USER_INT','ID_ACCION','TIPO_DIA_INT']]"
   ]
  },
  {
   "cell_type": "code",
   "execution_count": 5,
   "metadata": {},
   "outputs": [],
   "source": [
    "#almacenamos las columnas de datos y predicción en dos arrays\n",
    "X = np.array(dataset[['TIPO_USER_INT','ID_ACCION','TIPO_DIA_INT']])\n",
    "y = np.array(dataset[['HORA_NORM']])\n",
    "\n",
    "#dividimos los datos en conjunto de entrenamiento y test\n",
    "X_train, X_test, y_train, y_test = train_test_split(X, y, test_size=0.2, random_state=1028)"
   ]
  },
  {
   "cell_type": "code",
   "execution_count": 6,
   "metadata": {},
   "outputs": [
    {
     "name": "stdout",
     "output_type": "stream",
     "text": [
      "Precisión de la predicción Decision Tree Classifier: 64.06%\n",
      "Predicciones erróneas: 2191 / 6096\n"
     ]
    }
   ],
   "source": [
    "#generamos el estimador, limitando la profundidad a 12 niveles\n",
    "tree = DecisionTreeClassifier(max_depth=12, random_state=0)\n",
    "tree.fit(X_train, y_train)\n",
    "\n",
    "#Generamos las predicciones\n",
    "y_pred = tree.predict(X_test)\n",
    "\n",
    "##########Cálculo de exactitud##########\n",
    "acc_score_norm = accuracy_score(y_test, y_pred)\n",
    "acc_score = accuracy_score(y_test, y_pred, normalize=False)\n",
    "#scores = cross_val_score(tree, X_test, y_test)\n",
    "#print('Precisión de la predicción Decision Tree Classifier: {}%'.format(round(np.mean(scores)*100,2)))\n",
    "print('Precisión de la predicción Decision Tree Classifier: {}%'.format(round(tree.score(X_test,y_test)*100,2)))\n",
    "print('Predicciones erróneas:',len(y_test)-acc_score,'/',len(y_test))"
   ]
  },
  {
   "cell_type": "code",
   "execution_count": 7,
   "metadata": {
    "scrolled": true
   },
   "outputs": [
    {
     "name": "stdout",
     "output_type": "stream",
     "text": [
      "Precisión de la predicción Random Forest Classifier: 64.22%\n",
      "Predicciones erróneas: 2181 / 6096\n"
     ]
    }
   ],
   "source": [
    "# creamos el clasificador RandomForestClassifier\n",
    "clf = RandomForestClassifier(n_jobs=1, random_state=0, max_depth=10)\n",
    "\n",
    "# entrenamos el modelo\n",
    "clf.fit(X_train, y_train)\n",
    "\n",
    "#Generamos las predicciones\n",
    "y_pred = clf.predict(X_test)\n",
    "\n",
    "##########Cálculo de exactitud##########\n",
    "acc_score_norm = accuracy_score(y_test, y_pred)\n",
    "acc_score = accuracy_score(y_test, y_pred, normalize=False)\n",
    "scores = cross_val_score(clf, X_test, y_test)\n",
    "print('Precisión de la predicción Random Forest Classifier: {}%'.format(round(clf.score(X_test,y_test)*100,2)))\n",
    "print('Predicciones erróneas:',len(y_test)-acc_score,'/',len(y_test))"
   ]
  },
  {
   "cell_type": "code",
   "execution_count": 8,
   "metadata": {},
   "outputs": [
    {
     "name": "stdout",
     "output_type": "stream",
     "text": [
      "Usuario 1:\tPrecisión de la predicción: 75.68%\n",
      "Usuario 2:\tPrecisión de la predicción: 73.47%\n",
      "Usuario 3:\tPrecisión de la predicción: 45.44%\n"
     ]
    }
   ],
   "source": [
    "#analizamos para cada tipo de usuario, utilizando únicamente RandomForest\n",
    "for tipo_user in dataset['TIPO_USER_INT'].unique():\n",
    "\n",
    "    dataset_aux = dataset.loc[dataset['TIPO_USER_INT'] == tipo_user][['HORA_NORM','TIPO_USER_INT','ID_ACCION','TIPO_DIA_INT']]\n",
    "    \n",
    "    X = np.array(dataset_aux[['TIPO_USER_INT','ID_ACCION','TIPO_DIA_INT']])\n",
    "    y = np.array(dataset_aux[['HORA_NORM']])\n",
    "\n",
    "    X_train, X_test, y_train, y_test = train_test_split(X, y, test_size=0.2, random_state=1028)\n",
    "    \n",
    "    clf = RandomForestClassifier(n_jobs=1, random_state=0, max_depth=15)\n",
    "    clf.fit(X_train, y_train)\n",
    "    print('Usuario {}:\\tPrecisión de la predicción: {}%'.format(str(tipo_user),round(clf.score(X_test,y_test)*100,2)))"
   ]
  },
  {
   "cell_type": "code",
   "execution_count": 9,
   "metadata": {},
   "outputs": [
    {
     "name": "stdout",
     "output_type": "stream",
     "text": [
      "Acción 28:\tPrecisión de la predicción: 76.67%\n",
      "Acción 29:\tPrecisión de la predicción: 83.22%\n",
      "Acción 20:\tPrecisión de la predicción: 43.62%\n",
      "Acción 11:\tPrecisión de la predicción: 74.64%\n",
      "Acción 3:\tPrecisión de la predicción: 60.21%\n",
      "Acción 19:\tPrecisión de la predicción: 49.85%\n",
      "Acción 9:\tPrecisión de la predicción: 87.32%\n",
      "Acción 27:\tPrecisión de la predicción: 85.37%\n",
      "Acción 5:\tPrecisión de la predicción: 46.7%\n",
      "Acción 10:\tPrecisión de la predicción: 85.61%\n",
      "Acción 4:\tPrecisión de la predicción: 78.42%\n",
      "Acción 22:\tPrecisión de la predicción: 70.5%\n",
      "Acción 15:\tPrecisión de la predicción: 24.26%\n",
      "Acción 24:\tPrecisión de la predicción: 65.67%\n",
      "Acción 23:\tPrecisión de la predicción: 55.56%\n",
      "Acción 21:\tPrecisión de la predicción: 58.96%\n",
      "Acción 6:\tPrecisión de la predicción: 51.85%\n",
      "Acción 8:\tPrecisión de la predicción: 62.5%\n",
      "Acción 2:\tPrecisión de la predicción: 55.07%\n",
      "Acción 12:\tPrecisión de la predicción: 90.2%\n",
      "Acción 7:\tPrecisión de la predicción: 70.71%\n",
      "Acción 13:\tPrecisión de la predicción: 88.24%\n",
      "Acción 25:\tPrecisión de la predicción: 86.27%\n",
      "Acción 1:\tPrecisión de la predicción: 87.13%\n",
      "Acción 18:\tPrecisión de la predicción: 82.01%\n",
      "Acción 17:\tPrecisión de la predicción: 86.96%\n",
      "Acción 16:\tPrecisión de la predicción: 59.79%\n",
      "Acción 14:\tPrecisión de la predicción: 57.29%\n",
      "Acción 26:\tPrecisión de la predicción: 48.96%\n"
     ]
    }
   ],
   "source": [
    "#analizamos para cada acción, utilizando únicamente RandomForest\n",
    "for id_accion in dataset['ID_ACCION'].unique():\n",
    "    \n",
    "    dataset_aux = dataset.loc[dataset['ID_ACCION'] == id_accion][['HORA_NORM','TIPO_USER_INT','ID_ACCION','TIPO_DIA_INT']]\n",
    "    \n",
    "    X = np.array(dataset_aux[['TIPO_USER_INT','ID_ACCION','TIPO_DIA_INT']])\n",
    "    y = np.array(dataset_aux[['HORA_NORM']])\n",
    "\n",
    "    X_train, X_test, y_train, y_test = train_test_split(X, y, test_size=0.2, random_state=1028)\n",
    "    clf = RandomForestClassifier(n_jobs=1, random_state=0, max_depth=15)\n",
    "    clf.fit(X_train, y_train)\n",
    "    print('Acción {}:\\tPrecisión de la predicción: {}%'.format(str(id_accion),round(clf.score(X_test,y_test)*100,2)))"
   ]
  },
  {
   "cell_type": "code",
   "execution_count": 34,
   "metadata": {},
   "outputs": [
    {
     "name": "stdout",
     "output_type": "stream",
     "text": [
      "\n",
      "------------Análisis para el usuario: 1------------\n",
      "-Días de fin de semana:\n",
      "Acción 28:\tPrecisión de la predicción: 85.0% - hora: 08:35\n",
      "Acción 29:\tPrecisión de la predicción: 85.0% - hora: 09:50\n",
      "Acción 20:\tPrecisión de la predicción: 60.0% - hora: 09:50\n",
      "Acción 11:\tPrecisión de la predicción: 86.0% - hora: 09:20\n",
      "Acción 3:\tPrecisión de la predicción: 88.0% - hora: 11:50\n",
      "Acción 19:\tPrecisión de la predicción: 78.0% - hora: 20:20\n",
      "Acción 9:\tPrecisión de la predicción: 83.0% - hora: 21:50\n",
      "Acción 27:\tPrecisión de la predicción: 85.0% - hora: 22:35\n",
      "Acción 5:\tPrecisión de la predicción: 80.0% - hora: 23:35\n",
      "-Días de entre semana:\n",
      "Acción 28:\tPrecisión de la predicción: 83.0% - hora: 06:50\n",
      "Acción 29:\tPrecisión de la predicción: 86.0% - hora: 07:10\n",
      "Acción 20:\tPrecisión de la predicción: 41.0% - hora: 06:55\n",
      "Acción 11:\tPrecisión de la predicción: 100.0% - hora: 07:10\n",
      "Acción 3:\tPrecisión de la predicción: 40.0% - hora: 20:20\n",
      "Acción 19:\tPrecisión de la predicción: 76.0% - hora: 20:20\n",
      "Acción 9:\tPrecisión de la predicción: 86.0% - hora: 20:35\n",
      "Acción 5:\tPrecisión de la predicción: 82.0% - hora: 22:15\n",
      "Acción 12:\tPrecisión de la predicción: 90.0% - hora: 07:10\n",
      "Acción 22:\tPrecisión de la predicción: 78.0% - hora: 07:15\n",
      "Acción 7:\tPrecisión de la predicción: 88.0% - hora: 07:35\n",
      "Acción 13:\tPrecisión de la predicción: 88.0% - hora: 17:35\n",
      "Acción 25:\tPrecisión de la predicción: 86.0% - hora: 22:35\n",
      "Acción 1:\tPrecisión de la predicción: 87.0% - hora: 22:35\n",
      "\n",
      "------------Análisis para el usuario: 2------------\n",
      "-Días de fin de semana:\n",
      "Acción 28:\tPrecisión de la predicción: 82.0% - hora: 09:20\n",
      "Acción 10:\tPrecisión de la predicción: 82.0% - hora: 09:50\n",
      "Acción 4:\tPrecisión de la predicción: 78.0% - hora: 10:50\n",
      "Acción 11:\tPrecisión de la predicción: 82.0% - hora: 10:20\n",
      "Acción 22:\tPrecisión de la predicción: 83.0% - hora: 10:45\n",
      "Acción 19:\tPrecisión de la predicción: 80.0% - hora: 15:50\n",
      "Acción 5:\tPrecisión de la predicción: 78.0% - hora: 18:55\n",
      "Acción 9:\tPrecisión de la predicción: 85.0% - hora: 20:55\n",
      "Acción 3:\tPrecisión de la predicción: 88.0% - hora: 23:00\n",
      "Acción 18:\tPrecisión de la predicción: 80.0% - hora: 08:55\n",
      "Acción 17:\tPrecisión de la predicción: 75.0% - hora: 19:35\n",
      "-Días de entre semana:\n",
      "Acción 28:\tPrecisión de la predicción: 82.0% - hora: 09:50\n",
      "Acción 10:\tPrecisión de la predicción: 85.0% - hora: 09:25\n",
      "Acción 4:\tPrecisión de la predicción: 87.0% - hora: 09:30\n",
      "Acción 11:\tPrecisión de la predicción: 84.0% - hora: 09:45\n",
      "Acción 22:\tPrecisión de la predicción: 84.0% - hora: 10:15\n",
      "Acción 19:\tPrecisión de la predicción: 42.0% - hora: 20:35\n",
      "Acción 5:\tPrecisión de la predicción: 42.0% - hora: 14:35\n",
      "Acción 9:\tPrecisión de la predicción: 82.0% - hora: 20:50\n",
      "Acción 3:\tPrecisión de la predicción: 90.0% - hora: 19:40\n",
      "Acción 18:\tPrecisión de la predicción: 84.0% - hora: 08:35\n",
      "Acción 17:\tPrecisión de la predicción: 82.0% - hora: 18:10\n",
      "\n",
      "------------Análisis para el usuario: 3------------\n",
      "-Días de fin de semana:\n",
      "Acción 15:\tPrecisión de la predicción: 25.0% - hora: 21:35\n",
      "Acción 28:\tPrecisión de la predicción: 50.0% - hora: 09:55\n",
      "Acción 24:\tPrecisión de la predicción: 51.0% - hora: 10:35\n",
      "Acción 5:\tPrecisión de la predicción: 22.0% - hora: 18:50\n",
      "Acción 23:\tPrecisión de la predicción: 50.0% - hora: 11:35\n",
      "Acción 21:\tPrecisión de la predicción: 56.0% - hora: 12:20\n",
      "Acción 6:\tPrecisión de la predicción: 34.0% - hora: 13:10\n",
      "Acción 19:\tPrecisión de la predicción: 55.0% - hora: 13:35\n",
      "Acción 8:\tPrecisión de la predicción: 50.0% - hora: 21:50\n",
      "Acción 2:\tPrecisión de la predicción: 59.0% - hora: 23:35\n",
      "Acción 11:\tPrecisión de la predicción: 60.0% - hora: 11:50\n",
      "-Días de entre semana:\n",
      "Acción 15:\tPrecisión de la predicción: 25.0% - hora: 19:00\n",
      "Acción 28:\tPrecisión de la predicción: 57.0% - hora: 07:50\n",
      "Acción 24:\tPrecisión de la predicción: 61.0% - hora: 14:35\n",
      "Acción 5:\tPrecisión de la predicción: 26.0% - hora: 23:35\n",
      "Acción 23:\tPrecisión de la predicción: 57.0% - hora: 07:55\n",
      "Acción 21:\tPrecisión de la predicción: 58.0% - hora: 08:20\n",
      "Acción 6:\tPrecisión de la predicción: 48.0% - hora: 08:50\n",
      "Acción 19:\tPrecisión de la predicción: 29.0% - hora: 14:35\n",
      "Acción 8:\tPrecisión de la predicción: 57.0% - hora: 20:50\n",
      "Acción 2:\tPrecisión de la predicción: 44.0% - hora: 20:50\n",
      "Acción 16:\tPrecisión de la predicción: 60.0% - hora: 07:55\n",
      "Acción 14:\tPrecisión de la predicción: 57.0% - hora: 07:55\n",
      "Acción 22:\tPrecisión de la predicción: 53.0% - hora: 08:30\n",
      "Acción 11:\tPrecisión de la predicción: 48.0% - hora: 08:30\n",
      "Acción 7:\tPrecisión de la predicción: 55.0% - hora: 08:50\n",
      "Acción 26:\tPrecisión de la predicción: 49.0% - hora: 23:35\n"
     ]
    }
   ],
   "source": [
    "#se analiza para cada usuario, tipo de día y acción, utilizando únicamente RandomForest\n",
    "\n",
    "ac_validas = [] #en esta lista se almacenarán las acciones que son válidas para proponer automatizar\n",
    "\n",
    "for tipo_user in dataset['TIPO_USER_INT'].unique():\n",
    "    print('\\n------------Análisis para el usuario: {}------------'.format(str(tipo_user)))\n",
    "    \n",
    "    dataset_user = dataset.loc[dataset['TIPO_USER_INT'] == tipo_user][['HORA_NORM','TIPO_USER_INT','ID_ACCION','TIPO_DIA_INT']]\n",
    "    \n",
    "    for tipo_dia in dataset_user['TIPO_DIA_INT'].unique():\n",
    "        \n",
    "        if tipo_dia == 0:\n",
    "            print('-Días de entre semana:')\n",
    "        else:\n",
    "            if tipo_dia == 1:\n",
    "                print('-Días de fin de semana:')\n",
    "        \n",
    "        dataset_tipo_dia = dataset_user.loc[dataset_user['TIPO_DIA_INT'] == tipo_dia][['HORA_NORM','TIPO_USER_INT','ID_ACCION','TIPO_DIA_INT']]\n",
    "        \n",
    "        for id_accion in dataset_user['ID_ACCION'].unique():\n",
    "\n",
    "            dataset_accion = dataset_tipo_dia.loc[dataset_tipo_dia['ID_ACCION'] == id_accion][['HORA_NORM','TIPO_USER_INT','ID_ACCION','TIPO_DIA_INT']]\n",
    "\n",
    "            X = np.array(dataset_accion[['TIPO_USER_INT','ID_ACCION','TIPO_DIA_INT']])\n",
    "            y = np.array(dataset_accion[['HORA_NORM']])\n",
    "            \n",
    "            if (X.shape[0]) > 0:\n",
    "                X_train, X_test, y_train, y_test = train_test_split(X, y, test_size=0.2, random_state=1028)\n",
    "\n",
    "                clf = RandomForestClassifier(n_jobs=1, random_state=0, max_depth=15)\n",
    "                clf.fit(X_train, y_train)\n",
    "\n",
    "                score = round(clf.score(X_test,y_test),2)\n",
    "                \n",
    "                aux_pred = np.mean(clf.predict(X_test))\n",
    "                time_norm = aux_pred*INTERVALO\n",
    "                horas = int(time_norm//60)\n",
    "                minutos = int(time_norm%60)\n",
    "                #time = str(horas)+':'+str(minutos)\n",
    "                time = '{:>02d}'.format(horas)+':'+'{:<02d}'.format(minutos)\n",
    "                    \n",
    "                #print('Acción {}:\\tPrecisión de la predicción: {}% - hora: {}:{}'.format(str(id_accion),round(score*100,2),horas,minutos))\n",
    "                print('Acción {}:\\tPrecisión de la predicción: {}% - hora: {}'.format(str(id_accion),round(score*100,2),time))\n",
    "\n",
    "                #establecemos un acierto mínimo para la acciones \"válidas\" para automatizar\n",
    "                ACIERTO_MINIMO = 0.80\n",
    "                if score >= ACIERTO_MINIMO:\n",
    "                    accion = dataset_acciones.loc[dataset_acciones['ID_ACCION'] == id_accion][['ACCION']].ACCION.item()\n",
    "\n",
    "                    ac_validas.append([tipo_user,tipo_dia,id_accion,accion,score,time_norm,time])\n",
    "                    "
   ]
  },
  {
   "cell_type": "code",
   "execution_count": 38,
   "metadata": {},
   "outputs": [
    {
     "name": "stdout",
     "output_type": "stream",
     "text": [
      "TIPO_USER TIPO_DIA ID_ACCION                                 ACCION SCORE   HORA\n",
      "  USER_1      SEM        11                Dame el parte de tiempo   1.0  07:10\n",
      "  USER_1      SEM        12               Dame el parte de tráfico   0.9  07:10\n",
      "  USER_1      SEM         7                  Apaga todas las luces  0.88  07:35\n",
      "  USER_1      SEM        13                Enciende la calefacción  0.88  17:35\n",
      "  USER_1      SEM         1                   Apaga la calefacción  0.87  22:35\n",
      "  USER_1      SEM        29             Sube la persiana del salón  0.86  07:10\n",
      "  USER_1      SEM         9               Baja todas las persianas  0.86  20:35\n",
      "  USER_1      SEM        25  Programa el despertador para las 6:40  0.86  22:35\n",
      "  USER_1      SEM        28      Sube la persiana de la habitación  0.83  06:50\n",
      "  USER_1      SEM         5                    Apaga la televisión  0.82  22:15\n",
      "  USER_1      WKN         3                         Apaga la radio  0.88  11:50\n",
      "  USER_1      WKN        11                Dame el parte de tiempo  0.86  09:20\n",
      "  USER_1      WKN        28      Sube la persiana de la habitación  0.85  08:35\n",
      "  USER_1      WKN        29             Sube la persiana del salón  0.85  09:50\n",
      "  USER_1      WKN        27  Programa el despertador para las 8:00  0.85  22:35\n",
      "  USER_1      WKN         9               Baja todas las persianas  0.83  21:50\n",
      "  USER_1      WKN         5                    Apaga la televisión   0.8  23:35\n",
      "  USER_2      SEM         3                         Apaga la radio   0.9  19:40\n",
      "  USER_2      SEM         4        Apaga la radio de la habitación  0.87  09:30\n",
      "  USER_2      SEM        10                   Calienta la cafetera  0.85  09:25\n",
      "  USER_2      SEM        11                Dame el parte de tiempo  0.84  09:45\n",
      "  USER_2      SEM        22         Léeme las noticias importantes  0.84  10:15\n",
      "  USER_2      SEM        18     Enciende la radio de la habitación  0.84  08:35\n",
      "  USER_2      SEM        28      Sube la persiana de la habitación  0.82  09:50\n",
      "  USER_2      SEM         9               Baja todas las persianas  0.82  20:50\n",
      "  USER_2      SEM        17                      Enciende la radio  0.82  18:10\n",
      "  USER_2      WKN         3                         Apaga la radio  0.88  23:00\n",
      "  USER_2      WKN         9               Baja todas las persianas  0.85  20:55\n",
      "  USER_2      WKN        22         Léeme las noticias importantes  0.83  10:45\n",
      "  USER_2      WKN        28      Sube la persiana de la habitación  0.82  09:20\n",
      "  USER_2      WKN        10                   Calienta la cafetera  0.82  09:50\n",
      "  USER_2      WKN        11                Dame el parte de tiempo  0.82  10:20\n",
      "  USER_2      WKN        19                 Enciende la televisión   0.8  15:50\n",
      "  USER_2      WKN        18     Enciende la radio de la habitación   0.8  08:55\n"
     ]
    }
   ],
   "source": [
    "df_ac_validas = pd.DataFrame(np.array(ac_validas).reshape(len(ac_validas),7), columns = ['TIPO_USER','TIPO_DIA','ID_ACCION','ACCION','SCORE','HORA_NORM','HORA'])\n",
    "\n",
    "#se define un diccionario para decodificar las columnas TIPO_USER y TIPO_DIA\n",
    "convers_int = {\"TIPO_USER\": {\"1\":\"USER_1\", \"2\":\"USER_2\", \"3\":\"USER_3\"},\n",
    "               \"TIPO_DIA\": {\"0\":\"SEM\", \"1\":\"WKN\"}}\n",
    "\n",
    "df_ac_validas.replace(convers_int, inplace=True)\n",
    "\n",
    "#se muestran las acciones que podrían ser candidatas a automatizarse:\n",
    "df_ac_validas = df_ac_validas[['TIPO_USER','TIPO_DIA','ID_ACCION','ACCION','SCORE','HORA']].sort_values(by=['TIPO_USER','TIPO_DIA','SCORE'], ascending=[True,True,False])\n",
    "print(df_ac_validas.to_string(index=False))"
   ]
  }
 ],
 "metadata": {
  "celltoolbar": "Raw Cell Format",
  "kernelspec": {
   "display_name": "Python 3",
   "language": "python",
   "name": "python3"
  },
  "language_info": {
   "codemirror_mode": {
    "name": "ipython",
    "version": 3
   },
   "file_extension": ".py",
   "mimetype": "text/x-python",
   "name": "python",
   "nbconvert_exporter": "python",
   "pygments_lexer": "ipython3",
   "version": "3.6.5"
  }
 },
 "nbformat": 4,
 "nbformat_minor": 2
}
